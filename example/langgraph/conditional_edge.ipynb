{
 "cells": [
  {
   "cell_type": "markdown",
   "metadata": {},
   "source": [
    "# Conditional Edge\n",
    "\n",
    "This example was created based on the guide available at [this link](https://langchain-ai.github.io/langgraph/how-tos/branching/) to explore conditional edges in langgraph. \n",
    "\n",
    "For the required dependencies, we refer to LangChain's tutorial page without providing a separate explanation.\n",
    "\n",
    "Additionally, you need to install the following module:\n",
    "```bash\n",
    "pip install crimson-langgraph-dev-tool\n",
    "```"
   ]
  },
  {
   "cell_type": "markdown",
   "metadata": {},
   "source": [
    "## Basic\n",
    "\n",
    "The example available at [this link](https://langchain-ai.github.io/langgraph/how-tos/branching/#conditional-branching) is applied as is.\n",
    "\n",
    "However, I wasn't entirely satisfied with the structure of the `route_bc_or_cd` function, so I replaced it with the `route_chars` function."
   ]
  },
  {
   "cell_type": "code",
   "execution_count": 1,
   "metadata": {},
   "outputs": [],
   "source": [
    "import operator\n",
    "from typing import Annotated, Sequence\n",
    "\n",
    "from typing_extensions import TypedDict\n",
    "\n",
    "from langgraph.graph import StateGraph, START, END\n",
    "\n",
    "\n",
    "class State(TypedDict):\n",
    "    aggregate: Annotated[list, operator.add]\n",
    "    # Add a key to the state. We will set this key to determine\n",
    "    # how we branch.\n",
    "    which: str\n",
    "\n",
    "\n",
    "def a(state: State):\n",
    "    print(f'Adding \"A\" to {state[\"aggregate\"]}')\n",
    "    return {\"aggregate\": [\"A\"]}\n",
    "\n",
    "\n",
    "def b(state: State):\n",
    "    print(f'Adding \"B\" to {state[\"aggregate\"]}')\n",
    "    return {\"aggregate\": [\"B\"]}\n",
    "\n",
    "\n",
    "def c(state: State):\n",
    "    print(f'Adding \"C\" to {state[\"aggregate\"]}')\n",
    "    return {\"aggregate\": [\"C\"]}\n",
    "\n",
    "\n",
    "def d(state: State):\n",
    "    print(f'Adding \"D\" to {state[\"aggregate\"]}')\n",
    "    return {\"aggregate\": [\"D\"]}\n",
    "\n",
    "\n",
    "def e(state: State):\n",
    "    print(f'Adding \"E\" to {state[\"aggregate\"]}')\n",
    "    return {\"aggregate\": [\"E\"]}\n",
    "\n",
    "\n",
    "builder = StateGraph(State)\n",
    "builder.add_node(a)\n",
    "builder.add_node(b)\n",
    "builder.add_node(c)\n",
    "builder.add_node(d)\n",
    "builder.add_node(e)\n",
    "builder.add_edge(START, \"a\")\n",
    "\n",
    "\n",
    "def route_chars(state: State) -> Sequence[str]:\n",
    "    return list(state[\"which\"])\n",
    "\n",
    "intermediates = [\"b\", \"c\", \"d\"]\n",
    "builder.add_conditional_edges(\n",
    "    \"a\",\n",
    "    route_chars,\n",
    "    intermediates,\n",
    ")\n",
    "for node in intermediates:\n",
    "    builder.add_edge(node, \"e\")\n",
    "\n",
    "builder.add_edge(\"e\", END)\n",
    "graph = builder.compile()"
   ]
  },
  {
   "cell_type": "code",
   "execution_count": 2,
   "metadata": {},
   "outputs": [
    {
     "data": {
      "image/png": "[encoded data removed]",
      "text/plain": [
       "<IPython.core.display.Image object>"
      ]
     },
     "metadata": {},
     "output_type": "display_data"
    }
   ],
   "source": [
    "from crimson.langgraph_dev_tool.display import display_graph\n",
    "\n",
    "display_graph(graph)"
   ]
  },
  {
   "cell_type": "code",
   "execution_count": 3,
   "metadata": {},
   "outputs": [
    {
     "name": "stdout",
     "output_type": "stream",
     "text": [
      "Adding \"A\" to []\n",
      "Adding \"B\" to ['A']\n",
      "Adding \"C\" to ['A']\n",
      "Adding \"D\" to ['A']\n",
      "Adding \"E\" to ['A', 'B', 'C', 'D']\n"
     ]
    },
    {
     "data": {
      "text/plain": [
       "{'aggregate': ['A', 'B', 'C', 'D', 'E'], 'which': 'bcd'}"
      ]
     },
     "execution_count": 3,
     "metadata": {},
     "output_type": "execute_result"
    }
   ],
   "source": [
    "graph.invoke({\"aggregate\": [], \"which\": \"bcd\"})"
   ]
  },
  {
   "cell_type": "markdown",
   "metadata": {},
   "source": [
    "## Extended Example Based on Type Hints\n",
    "\n",
    "The signature of `add_conditional_edges` is as follows.\\\n",
    "In the official examples, only cases using `Callable` and `List` were found, so I have created a simple example where a `Runnable` is used for `path` and a dictionary is used for `path_map`.\n",
    "\n",
    "```python\n",
    "    def add_conditional_edges(\n",
    "        self,\n",
    "        source: str,\n",
    "        path: Union[\n",
    "            Callable[..., Union[Hashable, list[Hashable]]],\n",
    "            Callable[..., Awaitable[Union[Hashable, list[Hashable]]]],\n",
    "            Runnable[Any, Union[Hashable, list[Hashable]]],\n",
    "        ],\n",
    "        path_map: Optional[Union[dict[Hashable, str], list[str]]] = None,\n",
    "        then: Optional[str] = None,\n",
    "    ) -> Self:\n",
    "```"
   ]
  },
  {
   "cell_type": "code",
   "execution_count": 4,
   "metadata": {},
   "outputs": [
    {
     "name": "stdout",
     "output_type": "stream",
     "text": [
      "Invoke with value 1:\n",
      "Even node triggered\n",
      "{'value': 20}\n",
      "Invoke with value 2:\n",
      "Odd node triggered\n",
      "{'value': -3}\n"
     ]
    }
   ],
   "source": [
    "from langchain_core.runnables import RunnableLambda\n",
    "from typing import Annotated\n",
    "import operator\n",
    "from typing_extensions import TypedDict\n",
    "from langgraph.graph import StateGraph, START, END\n",
    "\n",
    "class State(TypedDict):\n",
    "    value: int\n",
    "\n",
    "def increment(state: State) -> State:\n",
    "    return {\"value\": state[\"value\"] + 1}\n",
    "\n",
    "def even_node(state: State) -> State:\n",
    "    print(\"Even node triggered\")\n",
    "    return {\"value\": state[\"value\"] * 10}\n",
    "\n",
    "def odd_node(state: State) -> State:\n",
    "    print(\"Odd node triggered\")\n",
    "    return {\"value\": state[\"value\"] * -1}\n",
    "\n",
    "# Normal callable function\n",
    "def check_even_odd(state: State) -> str:\n",
    "    return \"even\" if state[\"value\"] % 2 == 0 else \"odd\"\n",
    "\n",
    "# Wrap check_even_odd with RunnableLambda\n",
    "runnable_even_odd = RunnableLambda(check_even_odd)\n",
    "\n",
    "builder = StateGraph(State)\n",
    "builder.add_node(increment)\n",
    "builder.add_node(even_node)\n",
    "builder.add_node(odd_node)\n",
    "builder.add_edge(START, \"increment\")\n",
    "\n",
    "# Use runnable_even_odd as the path, and use a dictionary for path_map\n",
    "builder.add_conditional_edges(\n",
    "    \"increment\",\n",
    "    runnable_even_odd,  # Conditional branching function in Runnable form\n",
    "    path_map={\"even\": \"even_node\", \"odd\": \"odd_node\"}\n",
    ")\n",
    "\n",
    "builder.add_edge(\"even_node\", END)\n",
    "builder.add_edge(\"odd_node\", END)\n",
    "\n",
    "graph = builder.compile()\n",
    "\n",
    "print(\"Invoke with value 1:\")\n",
    "result1 = graph.invoke({\"value\": 1})\n",
    "print(result1)\n",
    "\n",
    "print(\"Invoke with value 2:\")\n",
    "result2 = graph.invoke({\"value\": 2})\n",
    "print(result2)\n"
   ]
  },
  {
   "cell_type": "markdown",
   "metadata": {},
   "source": [
    "## Why Runnable instead of Callable?\n",
    "\n",
    "We create an example to demonstrate the additional functionality that can be achieved by using Runnable."
   ]
  },
  {
   "cell_type": "code",
   "execution_count": 5,
   "metadata": {},
   "outputs": [
    {
     "name": "stdout",
     "output_type": "stream",
     "text": [
      "Invoke with value 1:\n",
      "[Listener] Execution started.\n",
      "[Listener] Execution ended. Output: {'output': 'even'}\n",
      "Even node triggered\n",
      "Result: {'value': 20}\n",
      "\n",
      "Invoke with value 2:\n",
      "[Listener] Execution started.\n",
      "[Listener] Execution ended. Output: {'output': 'odd'}\n",
      "Odd node triggered\n",
      "Result: {'value': -3}\n"
     ]
    }
   ],
   "source": [
    "from typing_extensions import TypedDict\n",
    "from langchain_core.runnables import RunnableLambda\n",
    "from langgraph.graph import StateGraph, START, END\n",
    "from langsmith import RunTree\n",
    "\n",
    "# Define state\n",
    "class State(TypedDict):\n",
    "    value: int\n",
    "\n",
    "# Node: Increments the value by 1.\n",
    "def increment(state: State) -> State:\n",
    "    return {\"value\": state[\"value\"] + 1}\n",
    "\n",
    "# Node: Executed when the value is even.\n",
    "def even_node(state: State) -> State:\n",
    "    print(\"Even node triggered\")\n",
    "    return {\"value\": state[\"value\"] * 10}\n",
    "\n",
    "# Node: Executed when the value is odd.\n",
    "def odd_node(state: State) -> State:\n",
    "    print(\"Odd node triggered\")\n",
    "    return {\"value\": state[\"value\"] * -1}\n",
    "\n",
    "# Branch decision function: Returns \"even\" if the value is even, \"odd\" if it is odd.\n",
    "def check_even_odd(state: State) -> str:\n",
    "    return \"even\" if state[\"value\"] % 2 == 0 else \"odd\"\n",
    "\n",
    "# Callback functions to be invoked before and after execution (used with with_listeners)\n",
    "def on_start_callback(run_obj: RunTree):\n",
    "    # run_obj contains various information about the execution.\n",
    "    print(\"[Listener] Execution started.\")\n",
    "\n",
    "def on_end_callback(run_obj: RunTree):\n",
    "    print(\"[Listener] Execution ended. Output:\", run_obj.outputs)\n",
    "\n",
    "# Wrap the check_even_odd function with RunnableLambda, then add callbacks using with_listeners.\n",
    "runnable_even_odd = RunnableLambda(check_even_odd).with_listeners(\n",
    "    on_start=on_start_callback,\n",
    "    on_end=on_end_callback\n",
    ")\n",
    "\n",
    "# Build the graph.\n",
    "builder = StateGraph(State)\n",
    "builder.add_node(increment)\n",
    "builder.add_node(even_node)\n",
    "builder.add_node(odd_node)\n",
    "builder.add_edge(START, \"increment\")\n",
    "\n",
    "# After executing the 'increment' node, branch using runnable_even_odd: map the returned value to a node name using path_map.\n",
    "builder.add_conditional_edges(\n",
    "    \"increment\",\n",
    "    runnable_even_odd,\n",
    "    path_map={\"even\": \"even_node\", \"odd\": \"odd_node\"}\n",
    ")\n",
    "\n",
    "builder.add_edge(\"even_node\", END)\n",
    "builder.add_edge(\"odd_node\", END)\n",
    "\n",
    "graph = builder.compile()\n",
    "\n",
    "print(\"Invoke with value 1:\")\n",
    "result1 = graph.invoke({\"value\": 1})\n",
    "print(\"Result:\", result1)\n",
    "\n",
    "print(\"\\nInvoke with value 2:\")\n",
    "result2 = graph.invoke({\"value\": 2})\n",
    "print(\"Result:\", result2)\n",
    "\n"
   ]
  },
  {
   "cell_type": "markdown",
   "metadata": {},
   "source": [
    "### Further Typehint\n",
    "\n",
    "The signature of the `with_listeners` function is as follows:\n",
    "\n",
    "```python\n",
    "def with_listeners(\n",
    "\tself,\n",
    "\t*,\n",
    "\ton_start: Optional[\n",
    "\t\tUnion[Callable[[Run], None], Callable[[Run, RunnableConfig], None]]\n",
    "\t] = None,\n",
    "\ton_end: Optional[\n",
    "\t\tUnion[Callable[[Run], None], Callable[[Run, RunnableConfig], None]]\n",
    "\t] = None,\n",
    "\ton_error: Optional[\n",
    "\t\tUnion[Callable[[Run], None], Callable[[Run, RunnableConfig], None]]\n",
    "\t] = None,\n",
    ") -> Runnable[Input, Output]:\n",
    "```\n",
    "\n",
    "When debugging the `on_end_callback` function, I discovered that `run_obj` is an instance of the `RunTree` class.\\\n",
    "To typehint this, I traced where that class is located using the code below."
   ]
  },
  {
   "cell_type": "code",
   "execution_count": 6,
   "metadata": {},
   "outputs": [
    {
     "data": {
      "text/plain": [
       "['/home/crimson/miniconda3/envs/langgraph-dev-tool/lib/python3.12/site-packages/langchain_core/tracers/schemas.py']"
      ]
     },
     "execution_count": 6,
     "metadata": {},
     "output_type": "execute_result"
    }
   ],
   "source": [
    "# pip install crimson-folder-system-beta\n",
    "\n",
    "from crimson.folder_system_beta.search import filter_files_by_content\n",
    "from crimson.folder_system_beta.filter import ReFilter\n",
    "\n",
    "filter_files_by_content(\n",
    "\tbase_root=\"/home/crimson/miniconda3/envs/langgraph-dev-tool/lib/python3.12/site-packages/langchain_core\",\n",
    "    path_filter=ReFilter(exclude=['egg-info']),\n",
    "\tcontent_filter=ReFilter(include=['RunTree'])\n",
    ")"
   ]
  }
 ],
 "metadata": {
  "kernelspec": {
   "display_name": "langgraph-dev-tool",
   "language": "python",
   "name": "python3"
  },
  "language_info": {
   "codemirror_mode": {
    "name": "ipython",
    "version": 3
   },
   "file_extension": ".py",
   "mimetype": "text/x-python",
   "name": "python",
   "nbconvert_exporter": "python",
   "pygments_lexer": "ipython3",
   "version": "3.12.9"
  }
 },
 "nbformat": 4,
 "nbformat_minor": 2
}
