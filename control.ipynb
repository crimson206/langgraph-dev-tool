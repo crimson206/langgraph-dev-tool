{
 "cells": [
  {
   "cell_type": "code",
   "execution_count": 11,
   "metadata": {},
   "outputs": [],
   "source": [
    "# For python modules,\n",
    "# Use in dev repository"
   ]
  },
  {
   "cell_type": "code",
   "execution_count": 12,
   "metadata": {},
   "outputs": [],
   "source": [
    "from crimson.file_loader import collect_files"
   ]
  },
  {
   "cell_type": "code",
   "execution_count": 13,
   "metadata": {},
   "outputs": [],
   "source": [
    "def my_editor(text:str)->str:\n",
    "    text = text.replace('..%', '')\n",
    "    return text"
   ]
  },
  {
   "cell_type": "code",
   "execution_count": null,
   "metadata": {},
   "outputs": [
    {
     "name": "stdout",
     "output_type": "stream",
     "text": [
      "Files collected from ./ to ./flatten\n"
     ]
    }
   ],
   "source": [
    "collect_files(\n",
    "    './',\n",
    "    './flatten',\n",
    "    includes=[\n",
    "        'src/', \n",
    "        'test/', \n",
    "        'example/',\n",
    "        'pyproject.toml',\n",
    "        'README.md',\n",
    "    ],\n",
    "    excludes=['egg-info', 'cache', 'langgraph-dev-tool-dev'],\n",
    "    post_path_editor=my_editor\n",
    ")"
   ]
  },
  {
   "cell_type": "code",
   "execution_count": null,
   "metadata": {},
   "outputs": [],
   "source": [
    "README_GEN_PROMPT= \"\"\"\n",
    "This repository has the following purposes:\n",
    "\n",
    "- Develop auxiliary tools for langgraph.\n",
    "- Create examples for langgraph and share them.\n",
    "\n",
    "The README.md should include the following:\n",
    "\n",
    "- TOC of examples with brief descriptions\n",
    "- Description of the modules\n",
    "\n",
    "Please write the README.md with reference to the shared files.\n",
    "\"\"\""
   ]
  }
 ],
 "metadata": {
  "kernelspec": {
   "display_name": "langgraph-dev-tool",
   "language": "python",
   "name": "python3"
  },
  "language_info": {
   "codemirror_mode": {
    "name": "ipython",
    "version": 3
   },
   "file_extension": ".py",
   "mimetype": "text/x-python",
   "name": "python",
   "nbconvert_exporter": "python",
   "pygments_lexer": "ipython3",
   "version": "3.12.9"
  }
 },
 "nbformat": 4,
 "nbformat_minor": 2
}
